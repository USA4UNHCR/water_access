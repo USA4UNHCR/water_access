{
 "cells": [
  {
   "cell_type": "code",
   "execution_count": 2,
   "metadata": {},
   "outputs": [],
   "source": [
    "import csv\n",
    "\n",
    "from util.distances import distance_filter"
   ]
  },
  {
   "cell_type": "code",
   "execution_count": 22,
   "metadata": {},
   "outputs": [],
   "source": [
    "import csv\n",
    "\n",
    "def get_borehole_data():\n",
    "    with open('Boreholes_Boyabu.csv','r') as csvfile:\n",
    "        reader = csv.reader(csvfile, delimiter = ',',quotechar = '\"')\n",
    "        for row in reader:\n",
    "            yield row\n",
    "            \n",
    "borehole_data = get_borehole_data()\n",
    "\n",
    "columns = next(borehole_data)\n",
    "water_sources = list(borehole_data)\n",
    "\n",
    "\n",
    "import pandas as pd\n",
    "from json import loads\n",
    "\n",
    "geojson_path = 'data/original/africa1.geojson'\n",
    "\n",
    "with open(geojson_path,'r') as file:\n",
    "    geojson_data = loads(file.read())\n",
    "    \n",
    "data_tuples = []\n",
    "for tent in geojson_data['features']:\n",
    "    # iterate over tents\n",
    "    ID = tent['properties']['id']\n",
    "    coords = tent['geometry']['coordinates']\n",
    "    label = tent['properties']['label']\n",
    "    \n",
    "    item = (ID,coords,label)\n",
    "    data_tuples += [item]"
   ]
  },
  {
   "cell_type": "code",
   "execution_count": 24,
   "metadata": {},
   "outputs": [
    {
     "data": {
      "text/plain": [
       "list"
      ]
     },
     "execution_count": 24,
     "metadata": {},
     "output_type": "execute_result"
    }
   ],
   "source": [
    "type(geojson_data['features'])"
   ]
  },
  {
   "cell_type": "code",
   "execution_count": 60,
   "metadata": {},
   "outputs": [
    {
     "name": "stdout",
     "output_type": "stream",
     "text": [
      "features within range: 1484\n",
      "Written to: LAT3D73400_LON18D76178_RANGE25D000.json\n"
     ]
    }
   ],
   "source": [
    "from json import loads, dumps\n",
    "from util.distances import distance_filter\n",
    "\n",
    "def get_geojson_data(PATH):\n",
    "    with open(PATH,'r') as file:\n",
    "        return loads(file.read())\n",
    "\n",
    "\n",
    "def get_filtered_geojson(input_paths,center_location,max_distance):\n",
    "    \"\"\"\n",
    "    Returns filtered geojson\n",
    "    \n",
    "    center_location (latitude, longitude)\n",
    "    input_paths\n",
    "    max_distance (in miles)\n",
    "    \n",
    "    \"\"\"\n",
    "    if type(input_paths) != list:\n",
    "        input_paths = [input_paths]\n",
    "        \n",
    "    feature_count = 0\n",
    "    print(\"features within range: %i\" % feature_count,end='\\r')\n",
    "    for input_path in input_paths:\n",
    "        input_geojson = get_geojson_data(input_path)\n",
    "        filtered_geojson = get_geojson_data(input_path)\n",
    "        filtered_geojson['features'] = []\n",
    "\n",
    "        for feature in input_geojson['features']:\n",
    "            coordinates = feature['geometry']['coordinates'][::-1]\n",
    "            if distance_filter(coordinates,center_location,max_distance):\n",
    "                filtered_geojson['features'] += [feature]\n",
    "                feature_count += 1\n",
    "                print(\"features within range: %i\" % feature_count,end='\\r')\n",
    "\n",
    "        return filtered_geojson\n",
    "\n",
    "    \n",
    "if __name__ == '__main__':\n",
    "    INPUT_PATH = 'data/original/africa1.geojson'\n",
    "    CENTER_LOCATION = (3.734,18.761778)\n",
    "    MAX_DISTANCE = 25\n",
    "    OUTPUT_PATH = \"LAT%1.5f_LON%1.5f_RANGE%1.3f\" % (CENTER_LOCATION[0],CENTER_LOCATION[1],MAX_DISTANCE)\n",
    "    OUTPUT_PATH = OUTPUT_PATH.replace('.','D') + '.json'\n",
    "    \n",
    "    fg = get_filtered_geojson(INPUT_PATH,CENTER_LOCATION,MAX_DISTANCE)\n",
    "    with open(OUTPUT_PATH,'w') as file:\n",
    "        file.write(dumps(fg))\n",
    "        print(\"\\nWritten to: %s\" % OUTPUT_PATH)"
   ]
  }
 ],
 "metadata": {
  "kernelspec": {
   "display_name": "Python 3",
   "language": "python",
   "name": "python3"
  },
  "language_info": {
   "codemirror_mode": {
    "name": "ipython",
    "version": 3
   },
   "file_extension": ".py",
   "mimetype": "text/x-python",
   "name": "python",
   "nbconvert_exporter": "python",
   "pygments_lexer": "ipython3",
   "version": "3.6.5"
  }
 },
 "nbformat": 4,
 "nbformat_minor": 2
}
