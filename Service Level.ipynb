{
 "cells": [
  {
   "cell_type": "code",
   "execution_count": 25,
   "metadata": {},
   "outputs": [],
   "source": [
    "import csv\n",
    "\n",
    "def get_borehole_data():\n",
    "    with open('Boreholes_Boyabu.csv','r') as csvfile:\n",
    "        reader = csv.reader(csvfile, delimiter = ',',quotechar = '\"')\n",
    "        for row in reader:\n",
    "            yield row\n",
    "            \n",
    "borehole_data = get_borehole_data()\n",
    "\n",
    "columns = next(borehole_data)\n",
    "water_sources = list(borehole_data)\n",
    "\n",
    "borehole_coordinates = [item[8:10][::-1] for item in water_sources]\n",
    "borehole_coordinates = [(float(i[0]),float(i[1])) for i in borehole_coordinates]"
   ]
  },
  {
   "cell_type": "code",
   "execution_count": 29,
   "metadata": {},
   "outputs": [],
   "source": [
    "from util.distances import distance_filter\n",
    "from json import loads, dumps\n",
    "\n",
    "m500 = 0.310686\n",
    "m200 = 0.124274\n",
    "\n",
    "# calculate number of boreholes serving each tent\n",
    "\n",
    "with open('LAT3D73400_LON18D76178_RANGE25D000.json','r') as file:\n",
    "    \n",
    "    geojson = loads(file.read())\n",
    "    \n",
    "    for i in range(len(geojson['features'])):\n",
    "        feature = geojson['features'][i]\n",
    "        within_emergency_range = 0\n",
    "        within_post_emergency_range = 0\n",
    "        for borehole_coordinate in borehole_coordinates:\n",
    "            if distance_filter(borehole_coordinate,feature['geometry']['coordinates'],m500):\n",
    "                within_emergency_range += 1\n",
    "            if distance_filter(borehole_coordinate,feature['geometry']['coordinates'],m200):\n",
    "                within_post_emergency_range += 1\n",
    "        \n",
    "        geojson['features'][i]['500m range'] = within_emergency_range\n",
    "        geojson['features'][i]['200m range'] = within_post_emergency_range\n",
    "        \n",
    "with open('LAT3D73400_LON18D76178_RANGE25D000_weighted.json','w') as file:\n",
    "    file.write(dumps(geojson))"
   ]
  },
  {
   "cell_type": "code",
   "execution_count": 4,
   "metadata": {},
   "outputs": [
    {
     "name": "stdout",
     "output_type": "stream",
     "text": [
      "\n",
      "    filter function that returns True or False depending on whether the cood1 and coord2 \n",
      "    coordinates are within max_distance miles from each other.\n",
      "\n",
      "    Example: \n",
      "    >> coord1 = (0,90) # north pole\n",
      "    >> coord2 = (0,0) # somewhere in africa\n",
      "    >> distance_filter(coord1,coord2,max_distance=12) \n",
      "    False\n",
      "\n",
      "    \n"
     ]
    }
   ],
   "source": []
  },
  {
   "cell_type": "code",
   "execution_count": 17,
   "metadata": {},
   "outputs": [
    {
     "data": {
      "text/plain": [
       "[(3.734, 18.76177778),\n",
       " (3.73586111, 18.76208333),\n",
       " (3.73186111, 18.76247222),\n",
       " (3.73783333, 18.76397222),\n",
       " (3.73466667, 18.76413889),\n",
       " (3.73211111, 18.76472222),\n",
       " (3.73063889, 18.76516667),\n",
       " (3.73544444, 18.76516667),\n",
       " (3.73869444, 18.76525),\n",
       " (3.73438889, 18.76555556),\n",
       " (3.72441667, 18.76563889),\n",
       " (3.73516667, 18.76694444),\n",
       " (3.72961111, 18.76702778),\n",
       " (3.73375, 18.76705556),\n",
       " (3.71933333, 18.76852778),\n",
       " (3.72852778, 18.76875),\n",
       " (3.72883333, 18.77011111),\n",
       " (3.73019444, 18.77011111),\n",
       " (3.71141667, 18.77063889),\n",
       " (3.72927778, 18.77086111),\n",
       " (3.72755556, 18.77161111),\n",
       " (3.72838889, 18.77275),\n",
       " (3.73891667, 18.78072222)]"
      ]
     },
     "execution_count": 17,
     "metadata": {},
     "output_type": "execute_result"
    }
   ],
   "source": [
    "borehole_coordinates"
   ]
  },
  {
   "cell_type": "code",
   "execution_count": null,
   "metadata": {},
   "outputs": [],
   "source": []
  }
 ],
 "metadata": {
  "kernelspec": {
   "display_name": "Python 3",
   "language": "python",
   "name": "python3"
  },
  "language_info": {
   "codemirror_mode": {
    "name": "ipython",
    "version": 3
   },
   "file_extension": ".py",
   "mimetype": "text/x-python",
   "name": "python",
   "nbconvert_exporter": "python",
   "pygments_lexer": "ipython3",
   "version": "3.6.5"
  }
 },
 "nbformat": 4,
 "nbformat_minor": 2
}
